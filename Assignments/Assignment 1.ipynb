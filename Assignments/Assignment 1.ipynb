{
  "cells": [
    {
      "cell_type": "code",
      "execution_count": 1,
      "metadata": {
        "id": "tY7Wwy_7zCaf"
      },
      "outputs": [],
      "source": [
        "import numpy as np\n",
        "import pandas as pd\n",
        "import matplotlib.pyplot as plt\n",
        "import seaborn as sns"
      ]
    },
    {
      "cell_type": "code",
      "execution_count": 2,
      "metadata": {
        "colab": {
          "base_uri": "https://localhost:8080/",
          "height": 175
        },
        "id": "zdRoNHAI0Spa",
        "outputId": "507dfaec-f8d8-4793-ddcb-36dfe312849d"
      },
      "outputs": [
        {
          "data": {
            "text/html": [
              "<div>\n",
              "<style scoped>\n",
              "    .dataframe tbody tr th:only-of-type {\n",
              "        vertical-align: middle;\n",
              "    }\n",
              "\n",
              "    .dataframe tbody tr th {\n",
              "        vertical-align: top;\n",
              "    }\n",
              "\n",
              "    .dataframe thead th {\n",
              "        text-align: right;\n",
              "    }\n",
              "</style>\n",
              "<table border=\"1\" class=\"dataframe\">\n",
              "  <thead>\n",
              "    <tr style=\"text-align: right;\">\n",
              "      <th></th>\n",
              "      <th>f1</th>\n",
              "      <th>f2</th>\n",
              "      <th>f3</th>\n",
              "      <th>f4</th>\n",
              "    </tr>\n",
              "  </thead>\n",
              "  <tbody>\n",
              "    <tr>\n",
              "      <th>0</th>\n",
              "      <td>0.948299</td>\n",
              "      <td>0.275206</td>\n",
              "      <td>0.211674</td>\n",
              "      <td>0.452657</td>\n",
              "    </tr>\n",
              "    <tr>\n",
              "      <th>1</th>\n",
              "      <td>0.129368</td>\n",
              "      <td>0.633789</td>\n",
              "      <td>0.524151</td>\n",
              "      <td>0.108891</td>\n",
              "    </tr>\n",
              "    <tr>\n",
              "      <th>2</th>\n",
              "      <td>0.011563</td>\n",
              "      <td>0.231277</td>\n",
              "      <td>0.409749</td>\n",
              "      <td>0.420122</td>\n",
              "    </tr>\n",
              "    <tr>\n",
              "      <th>3</th>\n",
              "      <td>0.185207</td>\n",
              "      <td>0.870090</td>\n",
              "      <td>0.395439</td>\n",
              "      <td>0.839468</td>\n",
              "    </tr>\n",
              "  </tbody>\n",
              "</table>\n",
              "</div>"
            ],
            "text/plain": [
              "         f1        f2        f3        f4\n",
              "0  0.948299  0.275206  0.211674  0.452657\n",
              "1  0.129368  0.633789  0.524151  0.108891\n",
              "2  0.011563  0.231277  0.409749  0.420122\n",
              "3  0.185207  0.870090  0.395439  0.839468"
            ]
          },
          "execution_count": 2,
          "metadata": {},
          "output_type": "execute_result"
        }
      ],
      "source": [
        "data = np.random.rand(4, 4)\n",
        "df = pd.DataFrame(data, columns=['f1', 'f2', 'f3', 'f4'])\n",
        "df"
      ]
    },
    {
      "cell_type": "code",
      "execution_count": 3,
      "metadata": {
        "colab": {
          "base_uri": "https://localhost:8080/",
          "height": 175
        },
        "id": "uT7L5shP0uvq",
        "outputId": "a2e76f32-7c33-4015-be67-8959f5d53ac3"
      },
      "outputs": [
        {
          "data": {
            "text/html": [
              "<div>\n",
              "<style scoped>\n",
              "    .dataframe tbody tr th:only-of-type {\n",
              "        vertical-align: middle;\n",
              "    }\n",
              "\n",
              "    .dataframe tbody tr th {\n",
              "        vertical-align: top;\n",
              "    }\n",
              "\n",
              "    .dataframe thead th {\n",
              "        text-align: right;\n",
              "    }\n",
              "</style>\n",
              "<table border=\"1\" class=\"dataframe\">\n",
              "  <thead>\n",
              "    <tr style=\"text-align: right;\">\n",
              "      <th></th>\n",
              "      <th>Random value 1</th>\n",
              "      <th>Random value 2</th>\n",
              "      <th>Random value 3</th>\n",
              "      <th>Random value 4</th>\n",
              "    </tr>\n",
              "  </thead>\n",
              "  <tbody>\n",
              "    <tr>\n",
              "      <th>0</th>\n",
              "      <td>0.948299</td>\n",
              "      <td>0.275206</td>\n",
              "      <td>0.211674</td>\n",
              "      <td>0.452657</td>\n",
              "    </tr>\n",
              "    <tr>\n",
              "      <th>1</th>\n",
              "      <td>0.129368</td>\n",
              "      <td>0.633789</td>\n",
              "      <td>0.524151</td>\n",
              "      <td>0.108891</td>\n",
              "    </tr>\n",
              "    <tr>\n",
              "      <th>2</th>\n",
              "      <td>0.011563</td>\n",
              "      <td>0.231277</td>\n",
              "      <td>0.409749</td>\n",
              "      <td>0.420122</td>\n",
              "    </tr>\n",
              "    <tr>\n",
              "      <th>3</th>\n",
              "      <td>0.185207</td>\n",
              "      <td>0.870090</td>\n",
              "      <td>0.395439</td>\n",
              "      <td>0.839468</td>\n",
              "    </tr>\n",
              "  </tbody>\n",
              "</table>\n",
              "</div>"
            ],
            "text/plain": [
              "   Random value 1  Random value 2  Random value 3  Random value 4\n",
              "0        0.948299        0.275206        0.211674        0.452657\n",
              "1        0.129368        0.633789        0.524151        0.108891\n",
              "2        0.011563        0.231277        0.409749        0.420122\n",
              "3        0.185207        0.870090        0.395439        0.839468"
            ]
          },
          "execution_count": 3,
          "metadata": {},
          "output_type": "execute_result"
        }
      ],
      "source": [
        "df.columns = ['Random value 1', 'Random value 2', 'Random value 3', 'Random value 4']\n",
        "df"
      ]
    },
    {
      "cell_type": "code",
      "execution_count": 4,
      "metadata": {
        "colab": {
          "base_uri": "https://localhost:8080/",
          "height": 300
        },
        "id": "yvhSLAp50zgK",
        "outputId": "a5b7dd12-0e4b-44f4-df69-057329302b60"
      },
      "outputs": [
        {
          "data": {
            "text/html": [
              "<div>\n",
              "<style scoped>\n",
              "    .dataframe tbody tr th:only-of-type {\n",
              "        vertical-align: middle;\n",
              "    }\n",
              "\n",
              "    .dataframe tbody tr th {\n",
              "        vertical-align: top;\n",
              "    }\n",
              "\n",
              "    .dataframe thead th {\n",
              "        text-align: right;\n",
              "    }\n",
              "</style>\n",
              "<table border=\"1\" class=\"dataframe\">\n",
              "  <thead>\n",
              "    <tr style=\"text-align: right;\">\n",
              "      <th></th>\n",
              "      <th>Random value 1</th>\n",
              "      <th>Random value 2</th>\n",
              "      <th>Random value 3</th>\n",
              "      <th>Random value 4</th>\n",
              "    </tr>\n",
              "  </thead>\n",
              "  <tbody>\n",
              "    <tr>\n",
              "      <th>count</th>\n",
              "      <td>4.000000</td>\n",
              "      <td>4.000000</td>\n",
              "      <td>4.000000</td>\n",
              "      <td>4.000000</td>\n",
              "    </tr>\n",
              "    <tr>\n",
              "      <th>mean</th>\n",
              "      <td>0.318609</td>\n",
              "      <td>0.502590</td>\n",
              "      <td>0.385253</td>\n",
              "      <td>0.455285</td>\n",
              "    </tr>\n",
              "    <tr>\n",
              "      <th>std</th>\n",
              "      <td>0.425987</td>\n",
              "      <td>0.304184</td>\n",
              "      <td>0.129262</td>\n",
              "      <td>0.299349</td>\n",
              "    </tr>\n",
              "    <tr>\n",
              "      <th>min</th>\n",
              "      <td>0.011563</td>\n",
              "      <td>0.231277</td>\n",
              "      <td>0.211674</td>\n",
              "      <td>0.108891</td>\n",
              "    </tr>\n",
              "    <tr>\n",
              "      <th>25%</th>\n",
              "      <td>0.099917</td>\n",
              "      <td>0.264224</td>\n",
              "      <td>0.349497</td>\n",
              "      <td>0.342314</td>\n",
              "    </tr>\n",
              "    <tr>\n",
              "      <th>50%</th>\n",
              "      <td>0.157288</td>\n",
              "      <td>0.454498</td>\n",
              "      <td>0.402594</td>\n",
              "      <td>0.436390</td>\n",
              "    </tr>\n",
              "    <tr>\n",
              "      <th>75%</th>\n",
              "      <td>0.375980</td>\n",
              "      <td>0.692864</td>\n",
              "      <td>0.438350</td>\n",
              "      <td>0.549360</td>\n",
              "    </tr>\n",
              "    <tr>\n",
              "      <th>max</th>\n",
              "      <td>0.948299</td>\n",
              "      <td>0.870090</td>\n",
              "      <td>0.524151</td>\n",
              "      <td>0.839468</td>\n",
              "    </tr>\n",
              "  </tbody>\n",
              "</table>\n",
              "</div>"
            ],
            "text/plain": [
              "       Random value 1  Random value 2  Random value 3  Random value 4\n",
              "count        4.000000        4.000000        4.000000        4.000000\n",
              "mean         0.318609        0.502590        0.385253        0.455285\n",
              "std          0.425987        0.304184        0.129262        0.299349\n",
              "min          0.011563        0.231277        0.211674        0.108891\n",
              "25%          0.099917        0.264224        0.349497        0.342314\n",
              "50%          0.157288        0.454498        0.402594        0.436390\n",
              "75%          0.375980        0.692864        0.438350        0.549360\n",
              "max          0.948299        0.870090        0.524151        0.839468"
            ]
          },
          "execution_count": 4,
          "metadata": {},
          "output_type": "execute_result"
        }
      ],
      "source": [
        "df.describe()"
      ]
    },
    {
      "cell_type": "code",
      "execution_count": 5,
      "metadata": {
        "colab": {
          "base_uri": "https://localhost:8080/"
        },
        "id": "DzzgSbM900tf",
        "outputId": "6bb1363d-1fe2-4a38-8ad1-6e402db7c217"
      },
      "outputs": [
        {
          "data": {
            "text/plain": [
              "Random value 1    False\n",
              "Random value 2    False\n",
              "Random value 3    False\n",
              "Random value 4    False\n",
              "dtype: bool"
            ]
          },
          "execution_count": 5,
          "metadata": {},
          "output_type": "execute_result"
        }
      ],
      "source": [
        "df.isnull().any()"
      ]
    },
    {
      "cell_type": "code",
      "execution_count": 6,
      "metadata": {
        "colab": {
          "base_uri": "https://localhost:8080/"
        },
        "id": "wUwTc_3I02ZG",
        "outputId": "4a16ffa2-132c-4584-c41a-d9fa3ea9c90f"
      },
      "outputs": [
        {
          "data": {
            "text/plain": [
              "Random value 1    0\n",
              "Random value 2    0\n",
              "Random value 3    0\n",
              "Random value 4    0\n",
              "dtype: int64"
            ]
          },
          "execution_count": 6,
          "metadata": {},
          "output_type": "execute_result"
        }
      ],
      "source": [
        "df.isnull().sum()"
      ]
    },
    {
      "cell_type": "code",
      "execution_count": 7,
      "metadata": {
        "colab": {
          "base_uri": "https://localhost:8080/"
        },
        "id": "NnfWdJSIbGfz",
        "outputId": "8c466f6e-bdaa-4fa7-bcc7-417d5f7f7d92"
      },
      "outputs": [
        {
          "data": {
            "text/plain": [
              "Random value 1    float64\n",
              "Random value 2    float64\n",
              "Random value 3    float64\n",
              "Random value 4    float64\n",
              "dtype: object"
            ]
          },
          "execution_count": 7,
          "metadata": {},
          "output_type": "execute_result"
        }
      ],
      "source": [
        "df.dtypes"
      ]
    },
    {
      "cell_type": "code",
      "execution_count": 8,
      "metadata": {
        "colab": {
          "base_uri": "https://localhost:8080/",
          "height": 175
        },
        "id": "ci9jq-YKx5Zy",
        "outputId": "d2292eef-3e6a-45f3-bef3-cfb053902b8d"
      },
      "outputs": [
        {
          "data": {
            "text/html": [
              "<div>\n",
              "<style scoped>\n",
              "    .dataframe tbody tr th:only-of-type {\n",
              "        vertical-align: middle;\n",
              "    }\n",
              "\n",
              "    .dataframe tbody tr th {\n",
              "        vertical-align: top;\n",
              "    }\n",
              "\n",
              "    .dataframe thead th {\n",
              "        text-align: right;\n",
              "    }\n",
              "</style>\n",
              "<table border=\"1\" class=\"dataframe\">\n",
              "  <thead>\n",
              "    <tr style=\"text-align: right;\">\n",
              "      <th></th>\n",
              "      <th>Random value 2</th>\n",
              "      <th>Random value 3</th>\n",
              "    </tr>\n",
              "  </thead>\n",
              "  <tbody>\n",
              "    <tr>\n",
              "      <th>0</th>\n",
              "      <td>0.275206</td>\n",
              "      <td>0.211674</td>\n",
              "    </tr>\n",
              "    <tr>\n",
              "      <th>1</th>\n",
              "      <td>0.633789</td>\n",
              "      <td>0.524151</td>\n",
              "    </tr>\n",
              "    <tr>\n",
              "      <th>2</th>\n",
              "      <td>0.231277</td>\n",
              "      <td>0.409749</td>\n",
              "    </tr>\n",
              "    <tr>\n",
              "      <th>3</th>\n",
              "      <td>0.870090</td>\n",
              "      <td>0.395439</td>\n",
              "    </tr>\n",
              "  </tbody>\n",
              "</table>\n",
              "</div>"
            ],
            "text/plain": [
              "   Random value 2  Random value 3\n",
              "0        0.275206        0.211674\n",
              "1        0.633789        0.524151\n",
              "2        0.231277        0.409749\n",
              "3        0.870090        0.395439"
            ]
          },
          "execution_count": 8,
          "metadata": {},
          "output_type": "execute_result"
        }
      ],
      "source": [
        "df[['Random value 2', 'Random value 3']]"
      ]
    },
    {
      "cell_type": "code",
      "execution_count": 9,
      "metadata": {
        "colab": {
          "base_uri": "https://localhost:8080/",
          "height": 175
        },
        "id": "av_C2O3b03mf",
        "outputId": "7b1fd60c-dac5-4017-fe46-e2ab96fcb104"
      },
      "outputs": [
        {
          "data": {
            "text/html": [
              "<div>\n",
              "<style scoped>\n",
              "    .dataframe tbody tr th:only-of-type {\n",
              "        vertical-align: middle;\n",
              "    }\n",
              "\n",
              "    .dataframe tbody tr th {\n",
              "        vertical-align: top;\n",
              "    }\n",
              "\n",
              "    .dataframe thead th {\n",
              "        text-align: right;\n",
              "    }\n",
              "</style>\n",
              "<table border=\"1\" class=\"dataframe\">\n",
              "  <thead>\n",
              "    <tr style=\"text-align: right;\">\n",
              "      <th></th>\n",
              "      <th>Random value 2</th>\n",
              "      <th>Random value 3</th>\n",
              "    </tr>\n",
              "  </thead>\n",
              "  <tbody>\n",
              "    <tr>\n",
              "      <th>0</th>\n",
              "      <td>0.275206</td>\n",
              "      <td>0.211674</td>\n",
              "    </tr>\n",
              "    <tr>\n",
              "      <th>1</th>\n",
              "      <td>0.633789</td>\n",
              "      <td>0.524151</td>\n",
              "    </tr>\n",
              "    <tr>\n",
              "      <th>2</th>\n",
              "      <td>0.231277</td>\n",
              "      <td>0.409749</td>\n",
              "    </tr>\n",
              "    <tr>\n",
              "      <th>3</th>\n",
              "      <td>0.870090</td>\n",
              "      <td>0.395439</td>\n",
              "    </tr>\n",
              "  </tbody>\n",
              "</table>\n",
              "</div>"
            ],
            "text/plain": [
              "   Random value 2  Random value 3\n",
              "0        0.275206        0.211674\n",
              "1        0.633789        0.524151\n",
              "2        0.231277        0.409749\n",
              "3        0.870090        0.395439"
            ]
          },
          "execution_count": 9,
          "metadata": {},
          "output_type": "execute_result"
        }
      ],
      "source": [
        "df.iloc[:, 1:3]"
      ]
    }
  ],
  "metadata": {
    "colab": {
      "provenance": []
    },
    "kernelspec": {
      "display_name": "Python 3",
      "name": "python3"
    },
    "language_info": {
      "codemirror_mode": {
        "name": "ipython",
        "version": 3
      },
      "file_extension": ".py",
      "mimetype": "text/x-python",
      "name": "python",
      "nbconvert_exporter": "python",
      "pygments_lexer": "ipython3",
      "version": "3.10.11"
    }
  },
  "nbformat": 4,
  "nbformat_minor": 0
}
